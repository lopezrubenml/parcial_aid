{
 "cells": [
  {
   "cell_type": "code",
   "execution_count": 109,
   "metadata": {},
   "outputs": [],
   "source": [
    "import pandas as pd\n",
    "import numpy as np\n",
    "from scipy import stats\n",
    "import math\n",
    "import statsmodels\n",
    "import matplotlib.pyplot as plt\n",
    "from statsmodels.stats.multicomp import pairwise_tukeyhsd\n",
    "from statsmodels.stats.multicomp import MultiComparison\n",
    "import statsmodels.api as sm\n",
    "from statsmodels.formula.api import ols\n",
    "from sklearn.discriminant_analysis import LinearDiscriminantAnalysis, QuadraticDiscriminantAnalysis\n",
    "from sklearn.decomposition import PCA\n",
    "import rpy2.robjects as robjects\n",
    "import rpy2.robjects.packages as rpackages\n",
    "from rpy2.robjects.vectors import StrVector\n",
    "from rpy2.robjects.packages import importr\n",
    "utils = importr(\"utils\")\n",
    "from rpy2.robjects import r, pandas2ri\n",
    "from rpy2.robjects.conversion import localconverter\n",
    "from sklearn import svm\n",
    "from scipy.cluster import hierarchy\n",
    "from scipy.spatial.distance import pdist, squareform\n",
    "from sklearn.cluster import AgglomerativeClustering\n",
    "from rpy2.robjects import Formula\n",
    "s = importr('stats')\n",
    "h = importr('Hotelling')\n",
    "a = importr('base')\n",
    "mv = importr('mvnormtest')"
   ]
  },
  {
   "cell_type": "code",
   "execution_count": 135,
   "metadata": {},
   "outputs": [],
   "source": [
    "packageNames = ('Hotelling', 'mvnormtest', 'util','base','stats')\n",
    "utils = rpackages.importr('utils')\n",
    "utils.chooseCRANmirror(ind=1)\n",
    "\n",
    "packnames_to_install = [x for x in packageNames if not rpackages.isinstalled(x)]\n",
    "\n",
    "if len(packnames_to_install) > 0:\n",
    "    utils.install_packages(StrVector(packnames_to_install))"
   ]
  },
  {
   "cell_type": "markdown",
   "metadata": {},
   "source": [
    "# Varios primer parcial"
   ]
  },
  {
   "cell_type": "code",
   "execution_count": 2,
   "metadata": {},
   "outputs": [
    {
     "name": "stdout",
     "output_type": "stream",
     "text": [
      "          0         1\n",
      "0  0.055713 -0.050095\n",
      "1  0.025142  0.711631\n",
      "2  0.022923  0.202468\n",
      "3  0.004934  0.556007\n",
      "4  0.000091  0.015478\n",
      "5  0.018206  0.076225\n",
      "6  0.052456  0.364513\n",
      "7  0.996299 -0.043099\n",
      "8  0.004483 -0.012555\n"
     ]
    }
   ],
   "source": [
    "#PCA\n",
    "\n",
    "riesgo = pd.read_excel('riesgo.xlsx')\n",
    "\n",
    "pca = PCA(n_components = 2)\n",
    "pca.fit(riesgo.drop('Sexo', axis=1))\n",
    "\n",
    "print(pd.DataFrame(pca.components_).T)\n",
    "\n"
   ]
  },
  {
   "cell_type": "code",
   "execution_count": 3,
   "metadata": {},
   "outputs": [
    {
     "name": "stdout",
     "output_type": "stream",
     "text": [
      "[0.9336324 0.0372576]\n"
     ]
    }
   ],
   "source": [
    "print(pca.explained_variance_ratio_)"
   ]
  },
  {
   "cell_type": "markdown",
   "metadata": {},
   "source": [
    "# Test Univariados"
   ]
  },
  {
   "cell_type": "code",
   "execution_count": 4,
   "metadata": {},
   "outputs": [
    {
     "name": "stdout",
     "output_type": "stream",
     "text": [
      "nivel de significacio 5% \n",
      "\n",
      "Estadistico:  2.6110134630728785 ,  pvalor:  0.012850596710296312 \n",
      "\n",
      "Regiones Criticas:  1.959963984540054 ,  -1.959963984540054\n"
     ]
    }
   ],
   "source": [
    "#Muestras normales independientes con varianzas conocidas\n",
    "#En este ejemplo se busca ver si las medias son iguales\n",
    "\n",
    "#H0 -> media_a - media_b = 0\n",
    "#H1 -> media_a - media_b ≠ 0\n",
    "\n",
    "region_a = {'media': 6.58, 'varianza': 0.85}\n",
    "region_b = {'media': 5.74, 'varianza': 1.22}\n",
    "\n",
    "ttest,pval = stats.ttest_ind_from_stats(mean1 = region_a['media'], \n",
    "                                        std1 = math.sqrt(region_a['varianza']),\n",
    "                                        nobs1 = 20,\n",
    "                                        mean2 = region_b['media'], \n",
    "                                        std2 = math.sqrt(region_b['varianza']),\n",
    "                                        nobs2 = 20)\n",
    "\n",
    "print(\"nivel de significacio 5% \\n\")\n",
    "\n",
    "print(\"Estadistico: \", ttest, \", \",  \"pvalor: \",pval, \"\\n\")\n",
    "\n",
    "# Para poder rechazar o aceptar H0 hay que usar o el valor del estadistico o el pvalor\n",
    "\n",
    "print(\"Regiones Criticas: \", stats.norm.ppf(0.975), \", \", -stats.norm.ppf(0.975))\n",
    "\n",
    "#Se usa 0.975 porque es un test bilateral\n",
    "\n",
    "#Se observa que tanto el pvalor como el estadistica inidican rechazo"
   ]
  },
  {
   "cell_type": "code",
   "execution_count": 5,
   "metadata": {},
   "outputs": [
    {
     "name": "stdout",
     "output_type": "stream",
     "text": [
      "Estadistico :  4.007735882347402\n",
      "Region Critica:  2.4671400979674316\n",
      "Se rehcaza\n"
     ]
    }
   ],
   "source": [
    "#Muestras normales independientes con varianzas desconocidas\n",
    "#Se quiere ver si la calidad de la variedad B es inferior a la de la variedad A\n",
    "#Una menor media denota una mejor calidad\n",
    "# nx= 15, ny = 15\n",
    "# el modelo podría definirse como dos muestras normales independientes \n",
    "#con medias distintas y varianzas iguales pero desconocidas\n",
    "\n",
    "variedad_a = {'media': 17.2, 'varianza': 0.7}\n",
    "variedad_b = {'media': 18.3, 'varianza': 0.8}\n",
    "\n",
    "nx = 15\n",
    "ny = 15\n",
    "\n",
    "#H0 -> media_a - media_b >= 0\n",
    "#H1 -> media_a - media_b < 0\n",
    "\n",
    "#Ya que la varianza es \"igual\", se construye la varianza amalgamada\n",
    "\n",
    "varianza_amalgamada = ((((nx-1)*(variedad_a['varianza'] **2))) + (((ny-1)*(variedad_b['varianza'] ** 2)))) / (nx + ny -2)\n",
    "\n",
    "\n",
    "t_test = (variedad_b['media'] - variedad_a['media']) / math.sqrt(varianza_amalgamada * ((1/15) + (1/15)))\n",
    "\n",
    "print('Estadistico : ', t_test)\n",
    "\n",
    "print(\"Region Critica: \", stats.t.ppf(0.99, 28)) # Se usar 28 porque es 15 - 1 + 15 -1\n",
    "\n",
    "\n",
    "print(\"Se rehcaza\")"
   ]
  },
  {
   "cell_type": "code",
   "execution_count": 6,
   "metadata": {},
   "outputs": [],
   "source": [
    "# Muestras independientes de poblaciones cualesquiera FALTA ESTE DE AQUI NO SE TE OLVIDE"
   ]
  },
  {
   "cell_type": "code",
   "execution_count": 7,
   "metadata": {},
   "outputs": [
    {
     "name": "stdout",
     "output_type": "stream",
     "text": [
      "Estadistico:  3.7523326078587433 ,  pvalor:  0.003196943286435837 \n",
      "\n",
      "Region Critica:  1.782287555649159 \n",
      "\n",
      "Se Rechaza\n"
     ]
    }
   ],
   "source": [
    "# Muestras con distribucion normal no independiente\n",
    "# Son datos apareados, se testea sobre la diferencia\n",
    "# UD = diferencia entre uno u otro\n",
    "\n",
    "#H0 -> UD =< 0\n",
    "#H1 -> UD > 0\n",
    "\n",
    "significance = .95\n",
    "\n",
    "posterior_a_fumar = [70, 82, 66, 69,75,72,77,49,54,66,69,36]\n",
    "anterior_a_fumar =  [60, 78, 64, 68,72,76,74,46,48,60,64,27]\n",
    "\n",
    "n = len(anterior_a_fumar)\n",
    "\n",
    "ttest, pval = stats.ttest_rel(posterior_a_fumar, anterior_a_fumar)\n",
    "\n",
    "print(\"Estadistico: \", ttest, \", \",  \"pvalor: \",pval, \"\\n\")\n",
    "\n",
    "\n",
    "print(\"Region Critica: \", stats.t.ppf(significance, n), \"\\n\") # Se usar 28 porque es 15 - 1 + 15 -1\n",
    "\n",
    "print('Se Rechaza')"
   ]
  },
  {
   "cell_type": "code",
   "execution_count": 8,
   "metadata": {},
   "outputs": [],
   "source": [
    "aceitunas = pd.DataFrame([[34.5,\n",
    "20.1,\n",
    "21.8,\n",
    "18.2,\n",
    "19.5,\n",
    "20.2,\n",
    "22.5,\n",
    "23.9,\n",
    "22.1,\n",
    "24.2],[16.4,14.8,17.8,12.3,11.9,15.5,13.4,16.0,15.8,16.2]],\n",
    "                         index = ['arbequina', 'carolea'])\n",
    "\n",
    "\n",
    "aceitunas =  aceitunas.T"
   ]
  },
  {
   "cell_type": "code",
   "execution_count": 9,
   "metadata": {},
   "outputs": [
    {
     "name": "stdout",
     "output_type": "stream",
     "text": [
      "Arbequina : (0.7682816386222839, 0.0059595066122710705)\n",
      "Carolea : (0.9248139262199402, 0.3988584280014038) \n",
      "\n",
      "WilcoxonResult(statistic=0.0, pvalue=0.005062032126267864)\n",
      "\n",
      "Se rechaza la igualdad de distribucion\n"
     ]
    }
   ],
   "source": [
    "#Wilcoxon : Igualdad de distribuciones\n",
    "\n",
    "print(\"Arbequina :\" ,stats.shapiro(aceitunas['arbequina']))\n",
    "print(\"Carolea :\" ,stats.shapiro(aceitunas['carolea']), \"\\n\")\n",
    "\n",
    "#Ya que el p valor de la arbequina es menor a 5% no podemos aplicar un test de normalidad\n",
    "\n",
    "# aplicamos un test de Mann-Whitney-Wilcoxon\n",
    "\n",
    "print(stats.wilcoxon(aceitunas['arbequina'], aceitunas['carolea']))\n",
    "\n",
    "print(\"\\nSe rechaza la igualdad de distribucion\")"
   ]
  },
  {
   "cell_type": "code",
   "execution_count": 10,
   "metadata": {},
   "outputs": [
    {
     "data": {
      "text/plain": [
       "{'whiskers': [<matplotlib.lines.Line2D at 0x1c28122748>,\n",
       "  <matplotlib.lines.Line2D at 0x1c28122ac8>,\n",
       "  <matplotlib.lines.Line2D at 0x1c28139f28>,\n",
       "  <matplotlib.lines.Line2D at 0x1c281422b0>],\n",
       " 'caps': [<matplotlib.lines.Line2D at 0x1c28122e10>,\n",
       "  <matplotlib.lines.Line2D at 0x1c28139198>,\n",
       "  <matplotlib.lines.Line2D at 0x1c281425f8>,\n",
       "  <matplotlib.lines.Line2D at 0x1c28142940>],\n",
       " 'boxes': [<matplotlib.lines.Line2D at 0x1c281225f8>,\n",
       "  <matplotlib.lines.Line2D at 0x1c28139ba8>],\n",
       " 'medians': [<matplotlib.lines.Line2D at 0x1c281394e0>,\n",
       "  <matplotlib.lines.Line2D at 0x1c28142c88>],\n",
       " 'fliers': [<matplotlib.lines.Line2D at 0x1c28139828>,\n",
       "  <matplotlib.lines.Line2D at 0x1c28142fd0>],\n",
       " 'means': []}"
      ]
     },
     "execution_count": 10,
     "metadata": {},
     "output_type": "execute_result"
    },
    {
     "data": {
      "image/png": "[encoded data removed]",
      "text/plain": [
       "<Figure size 432x288 with 1 Axes>"
      ]
     },
     "metadata": {
      "needs_background": "light"
     },
     "output_type": "display_data"
    }
   ],
   "source": [
    "plt.boxplot(aceitunas.T)"
   ]
  },
  {
   "cell_type": "code",
   "execution_count": 11,
   "metadata": {},
   "outputs": [
    {
     "name": "stdout",
     "output_type": "stream",
     "text": [
      "pvalor:  5.699411623331848e-05\n",
      "\n",
      "Se rechaza la igualdad de mediana\n"
     ]
    }
   ],
   "source": [
    "#El test de Mood de mediana se usa para comparar la mediana de dos poblaciones\n",
    "#No tiene supuesto de distribucion\n",
    "#Puede aplicarse a mas de dos distriuciones\n",
    "\n",
    "stat, p, med, tbl = stats.median_test(aceitunas['carolea'], aceitunas['arbequina'])\n",
    "\n",
    "print(\"pvalor: \" , p)\n",
    "\n",
    "print(\"\\nSe rechaza la igualdad de mediana\")"
   ]
  },
  {
   "cell_type": "code",
   "execution_count": 74,
   "metadata": {},
   "outputs": [
    {
     "name": "stdout",
     "output_type": "stream",
     "text": [
      "Usando stats: \b\n",
      "Estadistico:  3.0062331071763464 ,  pvalor:  0.05453613752440065 \n",
      "\n",
      "############################################## \n",
      "\n",
      "Usando statsmodel: \n",
      "\n",
      "             sum_sq    df         F    PR(>F)\n",
      "C(marca)  18.166667   3.0  3.006233  0.054536\n",
      "Residual  40.286667  20.0       NaN       NaN\n"
     ]
    }
   ],
   "source": [
    "#OJO QUE CUANDO HAY DIFERENTES TAMAÑOS DE POBLACION NO DA EL PRIMERO, SOLO STATSMODEL\n",
    "\n",
    "#ANOVA - Se usa para comparar las medias de varios grupos simultaneamente, sin necesid de hacerlo de par en par\n",
    "#H0 : µ1 = µ2 = · · · = µk\n",
    "#H1 : µi ≠ µj para algún par (i, j)\n",
    "\n",
    "#The samples are independent.\n",
    "#Each sample is from a normally distributed population.\n",
    "#The population standard deviations of the groups are all equal. This property is known as homoscedasticity.\n",
    "\n",
    "te = pd.DataFrame([\n",
    "[7.9, 5.7, 6.8, 6.4],\n",
    "[6.2, 7.5, 7.8, 7.1],\n",
    "[6.6, 9.8, 5.1, 7.9],\n",
    "[8.6, 6.1, 7.4, 4.5],\n",
    "[8.9, 8.4, 5.3, 5.0],\n",
    "[10.1, 7.2, 6.1, 4.0]], columns = [\"marca1\", \"marca2\", \"marca3\", \"marca4\"])\n",
    "\n",
    "test, pval = stats.f_oneway(te['marca1'],te['marca2'],te['marca3'],te['marca4'])\n",
    "\n",
    "print(\"Usando stats: \\b\")\n",
    "\n",
    "print(\"Estadistico: \", test, \", \",  \"pvalor: \",pval, \"\\n\")\n",
    "\n",
    "\n",
    "\n",
    "##############################################\n",
    "\n",
    "te_melt = pd.melt(te.reset_index(), id_vars= ['index'], value_vars = [i for i in te.columns])\n",
    "te_melt.columns = ['index', 'marca', 'valor']\n",
    "model = ols('valor ~ C(marca)', data=te_melt).fit()\n",
    "anova_table = sm.stats.anova_lm(model, typ=2)\n",
    "\n",
    "\n",
    "print(\"############################################## \\n\")\n",
    "\n",
    "print(\"Usando statsmodel: \\n\")\n",
    "\n",
    "print(anova_table)\n",
    "\n",
    "# El p valor de statsmodel es PR(>F)"
   ]
  },
  {
   "cell_type": "code",
   "execution_count": 13,
   "metadata": {},
   "outputs": [
    {
     "data": {
      "text/plain": [
       "{'whiskers': [<matplotlib.lines.Line2D at 0x1c286fb6d8>,\n",
       "  <matplotlib.lines.Line2D at 0x1c286fba58>,\n",
       "  <matplotlib.lines.Line2D at 0x1c28705e48>,\n",
       "  <matplotlib.lines.Line2D at 0x1c287101d0>,\n",
       "  <matplotlib.lines.Line2D at 0x1c2871a5c0>,\n",
       "  <matplotlib.lines.Line2D at 0x1c2871a908>,\n",
       "  <matplotlib.lines.Line2D at 0x1c28723cf8>,\n",
       "  <matplotlib.lines.Line2D at 0x1c2872e080>],\n",
       " 'caps': [<matplotlib.lines.Line2D at 0x1c286fbda0>,\n",
       "  <matplotlib.lines.Line2D at 0x1c28705128>,\n",
       "  <matplotlib.lines.Line2D at 0x1c28710518>,\n",
       "  <matplotlib.lines.Line2D at 0x1c28710860>,\n",
       "  <matplotlib.lines.Line2D at 0x1c2871ac50>,\n",
       "  <matplotlib.lines.Line2D at 0x1c2871af98>,\n",
       "  <matplotlib.lines.Line2D at 0x1c2872e3c8>,\n",
       "  <matplotlib.lines.Line2D at 0x1c2872e710>],\n",
       " 'boxes': [<matplotlib.lines.Line2D at 0x1c286fb588>,\n",
       "  <matplotlib.lines.Line2D at 0x1c28705ac8>,\n",
       "  <matplotlib.lines.Line2D at 0x1c2871a240>,\n",
       "  <matplotlib.lines.Line2D at 0x1c28723978>],\n",
       " 'medians': [<matplotlib.lines.Line2D at 0x1c28705470>,\n",
       "  <matplotlib.lines.Line2D at 0x1c28710ba8>,\n",
       "  <matplotlib.lines.Line2D at 0x1c28723320>,\n",
       "  <matplotlib.lines.Line2D at 0x1c2872ea58>],\n",
       " 'fliers': [<matplotlib.lines.Line2D at 0x1c287057b8>,\n",
       "  <matplotlib.lines.Line2D at 0x1c28710ef0>,\n",
       "  <matplotlib.lines.Line2D at 0x1c28723668>,\n",
       "  <matplotlib.lines.Line2D at 0x1c2872eda0>],\n",
       " 'means': []}"
      ]
     },
     "execution_count": 13,
     "metadata": {},
     "output_type": "execute_result"
    },
    {
     "data": {
      "image/png": "[encoded data removed]",
      "text/plain": [
       "<Figure size 432x288 with 1 Axes>"
      ]
     },
     "metadata": {
      "needs_background": "light"
     },
     "output_type": "display_data"
    }
   ],
   "source": [
    "plt.boxplot(te.T)"
   ]
  },
  {
   "cell_type": "code",
   "execution_count": 14,
   "metadata": {},
   "outputs": [
    {
     "name": "stdout",
     "output_type": "stream",
     "text": [
      "Test de Bartlett \n",
      "\n",
      "Estadistico:  0.6154120005881154 ,  pvalor:  0.8928952615023342 \n",
      "\n",
      "No se rechaza, el pvalor es alto, no hay evidecia estadistica para rechazar H0\n"
     ]
    }
   ],
   "source": [
    "#test de Bartlett - Se usa para provar si los desvios estandard son iguales, test de homosedasticidad\n",
    "\n",
    "print(\"Test de Bartlett \\n\")\n",
    "\n",
    "# H0 : σ1 = σ2 = · · · = σk\n",
    "# H1 : σi ≠ σj para algún par (i, j)\n",
    "\n",
    "\n",
    "test, pval = stats.bartlett(te['marca1'],te['marca2'],te['marca3'],te['marca4'])\n",
    "\n",
    "print(\"Estadistico: \", test, \", \",  \"pvalor: \",pval, \"\\n\")\n",
    "\n",
    "print(\"No se rechaza, el pvalor es alto, no hay evidecia estadistica para rechazar H0\")"
   ]
  },
  {
   "cell_type": "code",
   "execution_count": 15,
   "metadata": {},
   "outputs": [
    {
     "name": "stdout",
     "output_type": "stream",
     "text": [
      "Test de Bartlett \n",
      "\n",
      "Estadistico:  0.32942774664628927 ,  pvalor:  0.8041143071603875 \n",
      "\n",
      "No se rechaza la homosedasticidad, el pvalor es alto, no hay evidecia estadistica para rechazar H0\n"
     ]
    }
   ],
   "source": [
    "#test de Levene - Alternativa a Bartlett, test de homosedasticidad\n",
    "\n",
    "print(\"Test de Levene \\n\")\n",
    "\n",
    "# H0 : σ1 = σ2 = · · · = σk\n",
    "# H1 : σi ≠ σj para algún par (i, j)\n",
    "\n",
    "\n",
    "test, pval = stats.levene(te['marca1'],te['marca2'],te['marca3'],te['marca4'])\n",
    "\n",
    "print(\"Estadistico: \", test, \", \",  \"pvalor: \",pval, \"\\n\")\n",
    "\n",
    "print(\"No se rechaza la homosedasticidad, el pvalor es alto, no hay evidecia estadistica para rechazar H0\")"
   ]
  },
  {
   "cell_type": "code",
   "execution_count": 16,
   "metadata": {},
   "outputs": [
    {
     "name": "stdout",
     "output_type": "stream",
     "text": [
      "Shaprio Wilk: \n",
      " (0.9513969421386719, 0.2695143222808838) \n",
      "\n",
      "No se rechaza la normalidad de los residuos, el pvalor es alto\n"
     ]
    }
   ],
   "source": [
    "#Test de Shapiro Wilk - Test de normalidad - Se aplica sobre el residual del model de statsmodel\n",
    "\n",
    "print(\"Shaprio Wilk: \\n\",stats.shapiro(model.resid), \"\\n\")\n",
    "\n",
    "print(\"No se rechaza la normalidad de los residuos, el pvalor es alto\")"
   ]
  },
  {
   "cell_type": "code",
   "execution_count": 75,
   "metadata": {},
   "outputs": [
    {
     "name": "stdout",
     "output_type": "stream",
     "text": [
      "Multiple Comparison of Means - Tukey HSD,FWER=0.05\n",
      "============================================\n",
      "group1 group2 meandiff  lower  upper  reject\n",
      "--------------------------------------------\n",
      "marca1 marca2   -0.6   -2.8936 1.6936 False \n",
      "marca1 marca3 -1.6333  -3.9269 0.6603 False \n",
      "marca1 marca4 -2.2333  -4.5269 0.0603 False \n",
      "marca2 marca3 -1.0333  -3.3269 1.2603 False \n",
      "marca2 marca4 -1.6333  -3.9269 0.6603 False \n",
      "marca3 marca4   -0.6   -2.8936 1.6936 False \n",
      "--------------------------------------------\n"
     ]
    }
   ],
   "source": [
    "#Test de Tukey - Para ver cual es el diferente, True es que se rechaza\n",
    "#se rechaza cuando el 0 no esta contenido dentro de los limites\n",
    "# Esto es cuando se rehazo la hipotesis que las varianzas son iguales\n",
    "\n",
    "mc = MultiComparison(te_melt['valor'], te_melt['marca'])\n",
    "mc_results = mc.tukeyhsd()\n",
    "print(mc_results)"
   ]
  },
  {
   "cell_type": "code",
   "execution_count": 19,
   "metadata": {},
   "outputs": [
    {
     "name": "stdout",
     "output_type": "stream",
     "text": [
      "Estadistico:  6.769219611256167 ,  pvalor:  0.8041143071603875 \n",
      "\n",
      "MultiComparison.kruskal\n",
      "0 1 2.2857142857142847 4.538272619328519 0.5036529264415318 False\n",
      "0.6145052932097566\n",
      "0.6145052932097566\n"
     ]
    }
   ],
   "source": [
    "#Test de Kruskal Walis - Test de posicion (media por ejemplo), se usa cuando no hay normalidad\n",
    "#Se usa cuando se rechaza H0 de shapiro o levene y no se puede aplicar ANOVA\n",
    "\n",
    "test, p = stats.kruskal(te['marca1'],te['marca2'],te['marca3'],te['marca4'])\n",
    "\n",
    "print(\"Estadistico: \", test, \", \",  \"pvalor: \",pval, \"\\n\")\n",
    "\n",
    "mc_kruskal_results = mc.kruskal()\n",
    "\n",
    "print(mc_kruskal_results)"
   ]
  },
  {
   "cell_type": "markdown",
   "metadata": {},
   "source": [
    "# ----------------------------------------------------------"
   ]
  },
  {
   "cell_type": "markdown",
   "metadata": {},
   "source": [
    "# Test Multivariadsos\n"
   ]
  },
  {
   "cell_type": "code",
   "execution_count": 78,
   "metadata": {},
   "outputs": [
    {
     "name": "stdout",
     "output_type": "stream",
     "text": [
      "  antena pata\n",
      "0   1.38 1.64\n",
      "1   1.39 1.71\n",
      "2   1.23 1.72\n",
      "3   1.36 1.74\n",
      "4   1.38 1.82\n",
      "5   1.48 1.82\n",
      "6   1.54 1.81\n",
      "7   1.38 1.90\n",
      "8   1.56 2.07\n",
      "\n",
      "   antena pata\n",
      "9    1.14 1.78\n",
      "10   1.21 1.86\n",
      "11   1.18 1.96\n",
      "12   1.28 1.96\n",
      "13   1.26 2.10\n",
      "14   1.29 1.90\n",
      "\n",
      "Test stat:  20.845 \n",
      "Numerator df:  2 \n",
      "Denominator df:  12 \n",
      "P-value:  0.0001247 \n",
      "\n"
     ]
    }
   ],
   "source": [
    "# Test de igualdad de  vector de medias\n",
    "\n",
    "h = importr('Hotelling')\n",
    "a = importr('base')\n",
    "\n",
    "\n",
    "with localconverter(robjects.default_converter + pandas2ri.converter):\n",
    "  cn = robjects.conversion.py2rpy(dfa[dfa.especie == 'ca'][['antena','pata']])\n",
    "\n",
    "with localconverter(robjects.default_converter + pandas2ri.converter):\n",
    "  pa = robjects.conversion.py2rpy(dfa[dfa.especie == 'np'][['antena','pata']])\n",
    "\n",
    "\n",
    "hot = h.hotelling_test(a.as_matrix(cn), a.as_matrix(pa))\n",
    "\n",
    "#print(ress)\n",
    "print(cn)\n",
    "print(pa)\n",
    "print(hot)"
   ]
  },
  {
   "cell_type": "markdown",
   "metadata": {},
   "source": [
    "# ----------------------------------------------------------"
   ]
  },
  {
   "cell_type": "markdown",
   "metadata": {},
   "source": [
    "# Aprendizaje Supervisado"
   ]
  },
  {
   "cell_type": "markdown",
   "metadata": {},
   "source": [
    "El vector de medias multivariada tiene que ser diferente para que tenga sentido aplicar esto"
   ]
  },
  {
   "cell_type": "code",
   "execution_count": 42,
   "metadata": {},
   "outputs": [],
   "source": [
    "dfa = pd.DataFrame(\n",
    "[[1.38, 1.64, \"ca\"], \n",
    "[1.39, 1.71, \"ca\"],\n",
    "[1.23, 1.72, \"ca\"],\n",
    "[1.36, 1.74, \"ca\"],\n",
    "[1.38, 1.82, \"ca\"],\n",
    "[1.48, 1.82, \"ca\"],\n",
    "[1.54, 1.81, \"ca\"],\n",
    "[1.38, 1.90, \"ca\"],\n",
    "[1.56, 2.07, \"ca\"],\n",
    "[1.14, 1.78, \"np\"],\n",
    "[1.21, 1.86, \"np\"],\n",
    "[1.18, 1.96, \"np\"],\n",
    "[1.28, 1.96, \"np\"],\n",
    "[1.26, 2.10, \"np\"],\n",
    "[1.29, 1.90, \"np\"]], columns = ['antena','pata','especie'])"
   ]
  },
  {
   "cell_type": "code",
   "execution_count": 22,
   "metadata": {},
   "outputs": [
    {
     "name": "stdout",
     "output_type": "stream",
     "text": [
      "coeficients \n",
      " [[-48.14878716  29.71604246]] \n",
      "\n",
      "intercept \n",
      " [7.67701611] \n",
      "\n",
      "covariance \n",
      " [[0.00668148 0.00544667]\n",
      " [0.00544667 0.01242222]] \n",
      "\n",
      "means \n",
      " [[1.41111111 1.80333333]\n",
      " [1.22666667 1.92666667]] \n",
      "\n",
      "priors \n",
      " [0.6 0.4] \n",
      "\n",
      "Prediccion:  ['np']\n"
     ]
    }
   ],
   "source": [
    "clf = LinearDiscriminantAnalysis(store_covariance=True)\n",
    "clf.fit(dfa[['antena','pata']], dfa['especie'])\n",
    "\n",
    "print(\"coeficients \\n\", clf.coef_,\"\\n\")\n",
    "print(\"intercept \\n\", clf.intercept_,\"\\n\")\n",
    "print(\"covariance \\n\", clf.covariance_,\"\\n\")\n",
    "print(\"means \\n\", clf.means_,\"\\n\")\n",
    "print(\"priors \\n\", clf.priors_,\"\\n\")\n",
    "\n",
    "print(\"Prediccion: \", clf.predict([[1.25, 1.8]]))"
   ]
  },
  {
   "cell_type": "code",
   "execution_count": 23,
   "metadata": {},
   "outputs": [
    {
     "name": "stdout",
     "output_type": "stream",
     "text": [
      "covariance \n",
      " [array([[0.01028611, 0.00794583],\n",
      "       [0.00794583, 0.015925  ]]), array([[0.00358667, 0.00362667],\n",
      "       [0.00362667, 0.01178667]])] \n",
      "\n",
      "means \n",
      " [[1.41111111 1.80333333]\n",
      " [1.22666667 1.92666667]] \n",
      "\n",
      "priors \n",
      " [0.6 0.4] \n",
      "\n",
      "Prediccion:  ['np']\n"
     ]
    }
   ],
   "source": [
    "clf = QuadraticDiscriminantAnalysis(store_covariance=True)\n",
    "clf.fit(dfa[['antena','pata']], dfa['especie'])\n",
    "\n",
    "print(\"covariance \\n\", clf.covariance_,\"\\n\")\n",
    "print(\"means \\n\", clf.means_,\"\\n\")\n",
    "print(\"priors \\n\", clf.priors_,\"\\n\")\n",
    "\n",
    "print(\"Prediccion: \", clf.predict([[1.25, 1.8]]))"
   ]
  },
  {
   "cell_type": "code",
   "execution_count": 25,
   "metadata": {},
   "outputs": [
    {
     "name": "stdout",
     "output_type": "stream",
     "text": [
      "Estadistico:  0.0005260784608447467 ,  pvalor:  0.9818636838157729 \n",
      "\n",
      "No se rechaza la hipotesis de honoestaecidad\n"
     ]
    }
   ],
   "source": [
    "test, pval = stats.levene(dfa['antena'], dfa['pata'])\n",
    "\n",
    "print(\"Estadistico: \", test, \", \",  \"pvalor: \",pval, \"\\n\")\n",
    "\n",
    "print(\"No se rechaza la hipotesis de honoestaecidad\")"
   ]
  },
  {
   "cell_type": "code",
   "execution_count": 79,
   "metadata": {},
   "outputs": [
    {
     "name": "stdout",
     "output_type": "stream",
     "text": [
      "\n",
      "\tShapiro-Wilk normality test\n",
      "\n",
      "data:  Z\n",
      "W = 0.95885, p-value = 0.6725\n",
      "\n",
      "\n"
     ]
    }
   ],
   "source": [
    "#Alternativa de R - Este si da bien!! - SHAPIRO MULTIVARAIDA\n",
    "\n",
    "mv = importr('mvnormtest')\n",
    "\n",
    "with localconverter(robjects.default_converter + pandas2ri.converter):\n",
    "  r_from_pd_df = robjects.conversion.py2rpy(dfa[['antena','pata']].T)\n",
    "\n",
    "ress = mv.mshapiro_test(a.as_matrix(r_from_pd_df))\n",
    "\n",
    "print(ress)"
   ]
  },
  {
   "cell_type": "code",
   "execution_count": null,
   "metadata": {},
   "outputs": [],
   "source": [
    "# Transformaciones box y cox\n",
    "# Si los RESIDUOS no son normales o no son homoestadisticos se hace la transformacion box y cox \n",
    "\n",
    "xt = scipy.stats.boxcox(x)"
   ]
  },
  {
   "cell_type": "code",
   "execution_count": 26,
   "metadata": {},
   "outputs": [
    {
     "name": "stdout",
     "output_type": "stream",
     "text": [
      "Prediccion:  ['ca']\n"
     ]
    },
    {
     "name": "stderr",
     "output_type": "stream",
     "text": [
      "/Users/rlopezlam/anaconda3/lib/python3.7/site-packages/sklearn/svm/base.py:196: FutureWarning: The default value of gamma will change from 'auto' to 'scale' in version 0.22 to account better for unscaled features. Set gamma explicitly to 'auto' or 'scale' to avoid this warning.\n",
      "  \"avoid this warning.\", FutureWarning)\n"
     ]
    }
   ],
   "source": [
    "#SVM\n",
    "\n",
    "clf = svm.SVC()\n",
    "clf.fit(dfa[['antena','pata']], dfa['especie'])\n",
    "print(\"Prediccion: \", clf.predict([[1.25, 1.8]]))"
   ]
  },
  {
   "cell_type": "code",
   "execution_count": 27,
   "metadata": {},
   "outputs": [],
   "source": [
    "#Falta Regression Logistica!!!!"
   ]
  },
  {
   "cell_type": "code",
   "execution_count": 28,
   "metadata": {},
   "outputs": [],
   "source": [
    "#Falta Box M"
   ]
  },
  {
   "cell_type": "code",
   "execution_count": 29,
   "metadata": {},
   "outputs": [],
   "source": [
    "#Clustering Jerarquico\n",
    "\n",
    "animales = pd.DataFrame(\n",
    "[[\"CABALLO\", 90.1, 2.6, 1, 6.9],\n",
    "[\"BURRO\", 90.3, 1.7, 1.4, 6.2],\n",
    "[\"CEBRA\", 86.2, 3, 4.8, 5.3],\n",
    "[\"HAMSTER\", 81.9, 7.4, 7.2, 2.7],\n",
    "[\"RATA\", 72.5, 9.2, 12.6, 3.3],\n",
    "[\"OVEJA\", 82, 5.6, 6.4, 4.7],\n",
    "[\"RENO\", 64.8, 10.7, 20.3, 2.5],\n",
    "[\"MULA\", 90, 2, 1.8, 5.5],\n",
    "[\"CERDO\", 82.8, 7.1, 5.1, 3.7],\n",
    "[\"CAMELLO\", 87.7, 3.5, 3.4, 4.8],\n",
    "[\"BÚFALO\", 82.1, 5.9, 7.9, 4.7],\n",
    "[\"ZORRO\", 81.6, 6.6, 5.9, 4.9],\n",
    "[\"CONEJO\", 71.3, 12.3, 13.1, 1.9],\n",
    "[\"LLAMA\", 86.5, 3.9, 3.2, 5.6],\n",
    "[\"CIERVO\", 65.9, 10.4, 19.7, 2.6],\n",
    "[\"BISONTE\", 86.9, 4.8, 1.7, 5.7],\n",
    "[\"GATO\", 81.6, 10.1, 6.3, 4.4],\n",
    "[\"PERRO\", 76.3, 9.3, 9.5, 3],\n",
    "[\"FOCA\", 46.4, 9.7, 42, 0],\n",
    "[\"DELFÍN\", 44.9, 10.6, 34.9, 0.9]], columns = [\"Mamífero\", \"Agua\", \"Proteinas\", \"Grasa\", \"Lactosa\"])\n",
    "\n",
    "# cityblock = manhattan\n",
    "z = hierarchy.linkage(animales.drop('Mamífero', axis=1), method = 'single', metric = 'cityblock')\n",
    "\n"
   ]
  },
  {
   "cell_type": "code",
   "execution_count": 30,
   "metadata": {},
   "outputs": [
    {
     "data": {
      "image/png": "[encoded data removed]",
      "text/plain": [
       "<Figure size 1800x720 with 1 Axes>"
      ]
     },
     "metadata": {
      "needs_background": "light"
     },
     "output_type": "display_data"
    }
   ],
   "source": [
    "fig = plt.figure(figsize=(25, 10))\n",
    "dn = hierarchy.dendrogram(z)\n",
    "plt.show()"
   ]
  },
  {
   "cell_type": "code",
   "execution_count": 31,
   "metadata": {},
   "outputs": [
    {
     "data": {
      "text/html": [
       "<div>\n",
       "<style scoped>\n",
       "    .dataframe tbody tr th:only-of-type {\n",
       "        vertical-align: middle;\n",
       "    }\n",
       "\n",
       "    .dataframe tbody tr th {\n",
       "        vertical-align: top;\n",
       "    }\n",
       "\n",
       "    .dataframe thead th {\n",
       "        text-align: right;\n",
       "    }\n",
       "</style>\n",
       "<table border=\"1\" class=\"dataframe\">\n",
       "  <thead>\n",
       "    <tr style=\"text-align: right;\">\n",
       "      <th>Mamífero</th>\n",
       "      <th>CABALLO</th>\n",
       "      <th>BURRO</th>\n",
       "      <th>CEBRA</th>\n",
       "      <th>HAMSTER</th>\n",
       "      <th>RATA</th>\n",
       "      <th>OVEJA</th>\n",
       "      <th>RENO</th>\n",
       "      <th>MULA</th>\n",
       "      <th>CERDO</th>\n",
       "      <th>CAMELLO</th>\n",
       "      <th>BÚFALO</th>\n",
       "      <th>ZORRO</th>\n",
       "      <th>CONEJO</th>\n",
       "      <th>LLAMA</th>\n",
       "      <th>CIERVO</th>\n",
       "      <th>BISONTE</th>\n",
       "      <th>GATO</th>\n",
       "      <th>PERRO</th>\n",
       "      <th>FOCA</th>\n",
       "      <th>DELFÍN</th>\n",
       "    </tr>\n",
       "    <tr>\n",
       "      <th>Mamífero</th>\n",
       "      <th></th>\n",
       "      <th></th>\n",
       "      <th></th>\n",
       "      <th></th>\n",
       "      <th></th>\n",
       "      <th></th>\n",
       "      <th></th>\n",
       "      <th></th>\n",
       "      <th></th>\n",
       "      <th></th>\n",
       "      <th></th>\n",
       "      <th></th>\n",
       "      <th></th>\n",
       "      <th></th>\n",
       "      <th></th>\n",
       "      <th></th>\n",
       "      <th></th>\n",
       "      <th></th>\n",
       "      <th></th>\n",
       "      <th></th>\n",
       "    </tr>\n",
       "  </thead>\n",
       "  <tbody>\n",
       "    <tr>\n",
       "      <th>CABALLO</th>\n",
       "      <td>0.0</td>\n",
       "      <td>2.2</td>\n",
       "      <td>9.7</td>\n",
       "      <td>23.4</td>\n",
       "      <td>39.4</td>\n",
       "      <td>18.7</td>\n",
       "      <td>57.1</td>\n",
       "      <td>2.9</td>\n",
       "      <td>19.1</td>\n",
       "      <td>7.8</td>\n",
       "      <td>20.4</td>\n",
       "      <td>19.4</td>\n",
       "      <td>45.6</td>\n",
       "      <td>8.4</td>\n",
       "      <td>55.0</td>\n",
       "      <td>7.3</td>\n",
       "      <td>23.8</td>\n",
       "      <td>32.9</td>\n",
       "      <td>98.7</td>\n",
       "      <td>93.1</td>\n",
       "    </tr>\n",
       "    <tr>\n",
       "      <th>BURRO</th>\n",
       "      <td>2.2</td>\n",
       "      <td>0.0</td>\n",
       "      <td>9.7</td>\n",
       "      <td>23.4</td>\n",
       "      <td>39.4</td>\n",
       "      <td>18.7</td>\n",
       "      <td>57.1</td>\n",
       "      <td>1.7</td>\n",
       "      <td>19.1</td>\n",
       "      <td>7.8</td>\n",
       "      <td>20.4</td>\n",
       "      <td>19.4</td>\n",
       "      <td>45.6</td>\n",
       "      <td>8.4</td>\n",
       "      <td>55.0</td>\n",
       "      <td>7.3</td>\n",
       "      <td>23.8</td>\n",
       "      <td>32.9</td>\n",
       "      <td>98.7</td>\n",
       "      <td>93.1</td>\n",
       "    </tr>\n",
       "    <tr>\n",
       "      <th>CEBRA</th>\n",
       "      <td>9.7</td>\n",
       "      <td>9.7</td>\n",
       "      <td>0.0</td>\n",
       "      <td>13.7</td>\n",
       "      <td>29.7</td>\n",
       "      <td>9.0</td>\n",
       "      <td>47.4</td>\n",
       "      <td>8.0</td>\n",
       "      <td>9.4</td>\n",
       "      <td>3.9</td>\n",
       "      <td>10.7</td>\n",
       "      <td>9.7</td>\n",
       "      <td>35.9</td>\n",
       "      <td>3.1</td>\n",
       "      <td>45.3</td>\n",
       "      <td>6.0</td>\n",
       "      <td>14.1</td>\n",
       "      <td>23.2</td>\n",
       "      <td>89.0</td>\n",
       "      <td>83.4</td>\n",
       "    </tr>\n",
       "    <tr>\n",
       "      <th>HAMSTER</th>\n",
       "      <td>23.4</td>\n",
       "      <td>23.4</td>\n",
       "      <td>13.7</td>\n",
       "      <td>0.0</td>\n",
       "      <td>17.2</td>\n",
       "      <td>4.7</td>\n",
       "      <td>33.7</td>\n",
       "      <td>21.7</td>\n",
       "      <td>4.3</td>\n",
       "      <td>15.6</td>\n",
       "      <td>4.4</td>\n",
       "      <td>4.6</td>\n",
       "      <td>22.2</td>\n",
       "      <td>15.0</td>\n",
       "      <td>31.6</td>\n",
       "      <td>16.1</td>\n",
       "      <td>5.6</td>\n",
       "      <td>10.1</td>\n",
       "      <td>75.3</td>\n",
       "      <td>69.7</td>\n",
       "    </tr>\n",
       "    <tr>\n",
       "      <th>RATA</th>\n",
       "      <td>39.4</td>\n",
       "      <td>39.4</td>\n",
       "      <td>29.7</td>\n",
       "      <td>17.2</td>\n",
       "      <td>0.0</td>\n",
       "      <td>20.7</td>\n",
       "      <td>17.7</td>\n",
       "      <td>37.7</td>\n",
       "      <td>20.3</td>\n",
       "      <td>31.6</td>\n",
       "      <td>19.0</td>\n",
       "      <td>20.0</td>\n",
       "      <td>6.2</td>\n",
       "      <td>31.0</td>\n",
       "      <td>15.6</td>\n",
       "      <td>32.1</td>\n",
       "      <td>17.4</td>\n",
       "      <td>7.3</td>\n",
       "      <td>59.3</td>\n",
       "      <td>53.7</td>\n",
       "    </tr>\n",
       "    <tr>\n",
       "      <th>OVEJA</th>\n",
       "      <td>18.7</td>\n",
       "      <td>18.7</td>\n",
       "      <td>9.0</td>\n",
       "      <td>4.7</td>\n",
       "      <td>20.7</td>\n",
       "      <td>0.0</td>\n",
       "      <td>38.4</td>\n",
       "      <td>17.0</td>\n",
       "      <td>4.6</td>\n",
       "      <td>10.9</td>\n",
       "      <td>1.9</td>\n",
       "      <td>2.1</td>\n",
       "      <td>26.9</td>\n",
       "      <td>10.3</td>\n",
       "      <td>36.3</td>\n",
       "      <td>11.4</td>\n",
       "      <td>5.3</td>\n",
       "      <td>14.2</td>\n",
       "      <td>80.0</td>\n",
       "      <td>74.4</td>\n",
       "    </tr>\n",
       "    <tr>\n",
       "      <th>RENO</th>\n",
       "      <td>57.1</td>\n",
       "      <td>57.1</td>\n",
       "      <td>47.4</td>\n",
       "      <td>33.7</td>\n",
       "      <td>17.7</td>\n",
       "      <td>38.4</td>\n",
       "      <td>0.0</td>\n",
       "      <td>55.4</td>\n",
       "      <td>38.0</td>\n",
       "      <td>49.3</td>\n",
       "      <td>36.7</td>\n",
       "      <td>37.7</td>\n",
       "      <td>15.9</td>\n",
       "      <td>48.7</td>\n",
       "      <td>2.1</td>\n",
       "      <td>49.8</td>\n",
       "      <td>33.3</td>\n",
       "      <td>24.2</td>\n",
       "      <td>43.6</td>\n",
       "      <td>36.2</td>\n",
       "    </tr>\n",
       "    <tr>\n",
       "      <th>MULA</th>\n",
       "      <td>2.9</td>\n",
       "      <td>1.7</td>\n",
       "      <td>8.0</td>\n",
       "      <td>21.7</td>\n",
       "      <td>37.7</td>\n",
       "      <td>17.0</td>\n",
       "      <td>55.4</td>\n",
       "      <td>0.0</td>\n",
       "      <td>17.4</td>\n",
       "      <td>6.1</td>\n",
       "      <td>18.7</td>\n",
       "      <td>17.7</td>\n",
       "      <td>43.9</td>\n",
       "      <td>6.9</td>\n",
       "      <td>53.3</td>\n",
       "      <td>6.2</td>\n",
       "      <td>22.1</td>\n",
       "      <td>31.2</td>\n",
       "      <td>97.0</td>\n",
       "      <td>91.4</td>\n",
       "    </tr>\n",
       "    <tr>\n",
       "      <th>CERDO</th>\n",
       "      <td>19.1</td>\n",
       "      <td>19.1</td>\n",
       "      <td>9.4</td>\n",
       "      <td>4.3</td>\n",
       "      <td>20.3</td>\n",
       "      <td>4.6</td>\n",
       "      <td>38.0</td>\n",
       "      <td>17.4</td>\n",
       "      <td>0.0</td>\n",
       "      <td>11.3</td>\n",
       "      <td>5.7</td>\n",
       "      <td>3.7</td>\n",
       "      <td>26.5</td>\n",
       "      <td>10.7</td>\n",
       "      <td>35.9</td>\n",
       "      <td>11.8</td>\n",
       "      <td>6.1</td>\n",
       "      <td>13.8</td>\n",
       "      <td>79.6</td>\n",
       "      <td>74.0</td>\n",
       "    </tr>\n",
       "    <tr>\n",
       "      <th>CAMELLO</th>\n",
       "      <td>7.8</td>\n",
       "      <td>7.8</td>\n",
       "      <td>3.9</td>\n",
       "      <td>15.6</td>\n",
       "      <td>31.6</td>\n",
       "      <td>10.9</td>\n",
       "      <td>49.3</td>\n",
       "      <td>6.1</td>\n",
       "      <td>11.3</td>\n",
       "      <td>0.0</td>\n",
       "      <td>12.6</td>\n",
       "      <td>11.8</td>\n",
       "      <td>37.8</td>\n",
       "      <td>2.6</td>\n",
       "      <td>47.2</td>\n",
       "      <td>4.7</td>\n",
       "      <td>16.0</td>\n",
       "      <td>25.1</td>\n",
       "      <td>90.9</td>\n",
       "      <td>85.3</td>\n",
       "    </tr>\n",
       "    <tr>\n",
       "      <th>BÚFALO</th>\n",
       "      <td>20.4</td>\n",
       "      <td>20.4</td>\n",
       "      <td>10.7</td>\n",
       "      <td>4.4</td>\n",
       "      <td>19.0</td>\n",
       "      <td>1.9</td>\n",
       "      <td>36.7</td>\n",
       "      <td>18.7</td>\n",
       "      <td>5.7</td>\n",
       "      <td>12.6</td>\n",
       "      <td>0.0</td>\n",
       "      <td>3.4</td>\n",
       "      <td>25.2</td>\n",
       "      <td>12.0</td>\n",
       "      <td>34.6</td>\n",
       "      <td>13.1</td>\n",
       "      <td>6.6</td>\n",
       "      <td>12.5</td>\n",
       "      <td>78.3</td>\n",
       "      <td>72.7</td>\n",
       "    </tr>\n",
       "    <tr>\n",
       "      <th>ZORRO</th>\n",
       "      <td>19.4</td>\n",
       "      <td>19.4</td>\n",
       "      <td>9.7</td>\n",
       "      <td>4.6</td>\n",
       "      <td>20.0</td>\n",
       "      <td>2.1</td>\n",
       "      <td>37.7</td>\n",
       "      <td>17.7</td>\n",
       "      <td>3.7</td>\n",
       "      <td>11.8</td>\n",
       "      <td>3.4</td>\n",
       "      <td>0.0</td>\n",
       "      <td>26.2</td>\n",
       "      <td>11.0</td>\n",
       "      <td>35.6</td>\n",
       "      <td>12.1</td>\n",
       "      <td>4.4</td>\n",
       "      <td>13.5</td>\n",
       "      <td>79.3</td>\n",
       "      <td>73.7</td>\n",
       "    </tr>\n",
       "    <tr>\n",
       "      <th>CONEJO</th>\n",
       "      <td>45.6</td>\n",
       "      <td>45.6</td>\n",
       "      <td>35.9</td>\n",
       "      <td>22.2</td>\n",
       "      <td>6.2</td>\n",
       "      <td>26.9</td>\n",
       "      <td>15.9</td>\n",
       "      <td>43.9</td>\n",
       "      <td>26.5</td>\n",
       "      <td>37.8</td>\n",
       "      <td>25.2</td>\n",
       "      <td>26.2</td>\n",
       "      <td>0.0</td>\n",
       "      <td>37.2</td>\n",
       "      <td>14.6</td>\n",
       "      <td>38.3</td>\n",
       "      <td>21.8</td>\n",
       "      <td>12.7</td>\n",
       "      <td>58.3</td>\n",
       "      <td>50.9</td>\n",
       "    </tr>\n",
       "    <tr>\n",
       "      <th>LLAMA</th>\n",
       "      <td>8.4</td>\n",
       "      <td>8.4</td>\n",
       "      <td>3.1</td>\n",
       "      <td>15.0</td>\n",
       "      <td>31.0</td>\n",
       "      <td>10.3</td>\n",
       "      <td>48.7</td>\n",
       "      <td>6.9</td>\n",
       "      <td>10.7</td>\n",
       "      <td>2.6</td>\n",
       "      <td>12.0</td>\n",
       "      <td>11.0</td>\n",
       "      <td>37.2</td>\n",
       "      <td>0.0</td>\n",
       "      <td>46.6</td>\n",
       "      <td>2.9</td>\n",
       "      <td>15.4</td>\n",
       "      <td>24.5</td>\n",
       "      <td>90.3</td>\n",
       "      <td>84.7</td>\n",
       "    </tr>\n",
       "    <tr>\n",
       "      <th>CIERVO</th>\n",
       "      <td>55.0</td>\n",
       "      <td>55.0</td>\n",
       "      <td>45.3</td>\n",
       "      <td>31.6</td>\n",
       "      <td>15.6</td>\n",
       "      <td>36.3</td>\n",
       "      <td>2.1</td>\n",
       "      <td>53.3</td>\n",
       "      <td>35.9</td>\n",
       "      <td>47.2</td>\n",
       "      <td>34.6</td>\n",
       "      <td>35.6</td>\n",
       "      <td>14.6</td>\n",
       "      <td>46.6</td>\n",
       "      <td>0.0</td>\n",
       "      <td>47.7</td>\n",
       "      <td>31.2</td>\n",
       "      <td>22.1</td>\n",
       "      <td>45.1</td>\n",
       "      <td>38.1</td>\n",
       "    </tr>\n",
       "    <tr>\n",
       "      <th>BISONTE</th>\n",
       "      <td>7.3</td>\n",
       "      <td>7.3</td>\n",
       "      <td>6.0</td>\n",
       "      <td>16.1</td>\n",
       "      <td>32.1</td>\n",
       "      <td>11.4</td>\n",
       "      <td>49.8</td>\n",
       "      <td>6.2</td>\n",
       "      <td>11.8</td>\n",
       "      <td>4.7</td>\n",
       "      <td>13.1</td>\n",
       "      <td>12.1</td>\n",
       "      <td>38.3</td>\n",
       "      <td>2.9</td>\n",
       "      <td>47.7</td>\n",
       "      <td>0.0</td>\n",
       "      <td>16.5</td>\n",
       "      <td>25.6</td>\n",
       "      <td>91.4</td>\n",
       "      <td>85.8</td>\n",
       "    </tr>\n",
       "    <tr>\n",
       "      <th>GATO</th>\n",
       "      <td>23.8</td>\n",
       "      <td>23.8</td>\n",
       "      <td>14.1</td>\n",
       "      <td>5.6</td>\n",
       "      <td>17.4</td>\n",
       "      <td>5.3</td>\n",
       "      <td>33.3</td>\n",
       "      <td>22.1</td>\n",
       "      <td>6.1</td>\n",
       "      <td>16.0</td>\n",
       "      <td>6.6</td>\n",
       "      <td>4.4</td>\n",
       "      <td>21.8</td>\n",
       "      <td>15.4</td>\n",
       "      <td>31.2</td>\n",
       "      <td>16.5</td>\n",
       "      <td>0.0</td>\n",
       "      <td>10.7</td>\n",
       "      <td>75.7</td>\n",
       "      <td>69.3</td>\n",
       "    </tr>\n",
       "    <tr>\n",
       "      <th>PERRO</th>\n",
       "      <td>32.9</td>\n",
       "      <td>32.9</td>\n",
       "      <td>23.2</td>\n",
       "      <td>10.1</td>\n",
       "      <td>7.3</td>\n",
       "      <td>14.2</td>\n",
       "      <td>24.2</td>\n",
       "      <td>31.2</td>\n",
       "      <td>13.8</td>\n",
       "      <td>25.1</td>\n",
       "      <td>12.5</td>\n",
       "      <td>13.5</td>\n",
       "      <td>12.7</td>\n",
       "      <td>24.5</td>\n",
       "      <td>22.1</td>\n",
       "      <td>25.6</td>\n",
       "      <td>10.7</td>\n",
       "      <td>0.0</td>\n",
       "      <td>65.8</td>\n",
       "      <td>60.2</td>\n",
       "    </tr>\n",
       "    <tr>\n",
       "      <th>FOCA</th>\n",
       "      <td>98.7</td>\n",
       "      <td>98.7</td>\n",
       "      <td>89.0</td>\n",
       "      <td>75.3</td>\n",
       "      <td>59.3</td>\n",
       "      <td>80.0</td>\n",
       "      <td>43.6</td>\n",
       "      <td>97.0</td>\n",
       "      <td>79.6</td>\n",
       "      <td>90.9</td>\n",
       "      <td>78.3</td>\n",
       "      <td>79.3</td>\n",
       "      <td>58.3</td>\n",
       "      <td>90.3</td>\n",
       "      <td>45.1</td>\n",
       "      <td>91.4</td>\n",
       "      <td>75.7</td>\n",
       "      <td>65.8</td>\n",
       "      <td>0.0</td>\n",
       "      <td>10.4</td>\n",
       "    </tr>\n",
       "    <tr>\n",
       "      <th>DELFÍN</th>\n",
       "      <td>93.1</td>\n",
       "      <td>93.1</td>\n",
       "      <td>83.4</td>\n",
       "      <td>69.7</td>\n",
       "      <td>53.7</td>\n",
       "      <td>74.4</td>\n",
       "      <td>36.2</td>\n",
       "      <td>91.4</td>\n",
       "      <td>74.0</td>\n",
       "      <td>85.3</td>\n",
       "      <td>72.7</td>\n",
       "      <td>73.7</td>\n",
       "      <td>50.9</td>\n",
       "      <td>84.7</td>\n",
       "      <td>38.1</td>\n",
       "      <td>85.8</td>\n",
       "      <td>69.3</td>\n",
       "      <td>60.2</td>\n",
       "      <td>10.4</td>\n",
       "      <td>0.0</td>\n",
       "    </tr>\n",
       "  </tbody>\n",
       "</table>\n",
       "</div>"
      ],
      "text/plain": [
       "Mamífero  CABALLO  BURRO  CEBRA  HAMSTER  RATA  OVEJA  RENO  MULA  CERDO  \\\n",
       "Mamífero                                                                   \n",
       "CABALLO       0.0    2.2    9.7     23.4  39.4   18.7  57.1   2.9   19.1   \n",
       "BURRO         2.2    0.0    9.7     23.4  39.4   18.7  57.1   1.7   19.1   \n",
       "CEBRA         9.7    9.7    0.0     13.7  29.7    9.0  47.4   8.0    9.4   \n",
       "HAMSTER      23.4   23.4   13.7      0.0  17.2    4.7  33.7  21.7    4.3   \n",
       "RATA         39.4   39.4   29.7     17.2   0.0   20.7  17.7  37.7   20.3   \n",
       "OVEJA        18.7   18.7    9.0      4.7  20.7    0.0  38.4  17.0    4.6   \n",
       "RENO         57.1   57.1   47.4     33.7  17.7   38.4   0.0  55.4   38.0   \n",
       "MULA          2.9    1.7    8.0     21.7  37.7   17.0  55.4   0.0   17.4   \n",
       "CERDO        19.1   19.1    9.4      4.3  20.3    4.6  38.0  17.4    0.0   \n",
       "CAMELLO       7.8    7.8    3.9     15.6  31.6   10.9  49.3   6.1   11.3   \n",
       "BÚFALO       20.4   20.4   10.7      4.4  19.0    1.9  36.7  18.7    5.7   \n",
       "ZORRO        19.4   19.4    9.7      4.6  20.0    2.1  37.7  17.7    3.7   \n",
       "CONEJO       45.6   45.6   35.9     22.2   6.2   26.9  15.9  43.9   26.5   \n",
       "LLAMA         8.4    8.4    3.1     15.0  31.0   10.3  48.7   6.9   10.7   \n",
       "CIERVO       55.0   55.0   45.3     31.6  15.6   36.3   2.1  53.3   35.9   \n",
       "BISONTE       7.3    7.3    6.0     16.1  32.1   11.4  49.8   6.2   11.8   \n",
       "GATO         23.8   23.8   14.1      5.6  17.4    5.3  33.3  22.1    6.1   \n",
       "PERRO        32.9   32.9   23.2     10.1   7.3   14.2  24.2  31.2   13.8   \n",
       "FOCA         98.7   98.7   89.0     75.3  59.3   80.0  43.6  97.0   79.6   \n",
       "DELFÍN       93.1   93.1   83.4     69.7  53.7   74.4  36.2  91.4   74.0   \n",
       "\n",
       "Mamífero  CAMELLO  BÚFALO  ZORRO  CONEJO  LLAMA  CIERVO  BISONTE  GATO  PERRO  \\\n",
       "Mamífero                                                                        \n",
       "CABALLO       7.8    20.4   19.4    45.6    8.4    55.0      7.3  23.8   32.9   \n",
       "BURRO         7.8    20.4   19.4    45.6    8.4    55.0      7.3  23.8   32.9   \n",
       "CEBRA         3.9    10.7    9.7    35.9    3.1    45.3      6.0  14.1   23.2   \n",
       "HAMSTER      15.6     4.4    4.6    22.2   15.0    31.6     16.1   5.6   10.1   \n",
       "RATA         31.6    19.0   20.0     6.2   31.0    15.6     32.1  17.4    7.3   \n",
       "OVEJA        10.9     1.9    2.1    26.9   10.3    36.3     11.4   5.3   14.2   \n",
       "RENO         49.3    36.7   37.7    15.9   48.7     2.1     49.8  33.3   24.2   \n",
       "MULA          6.1    18.7   17.7    43.9    6.9    53.3      6.2  22.1   31.2   \n",
       "CERDO        11.3     5.7    3.7    26.5   10.7    35.9     11.8   6.1   13.8   \n",
       "CAMELLO       0.0    12.6   11.8    37.8    2.6    47.2      4.7  16.0   25.1   \n",
       "BÚFALO       12.6     0.0    3.4    25.2   12.0    34.6     13.1   6.6   12.5   \n",
       "ZORRO        11.8     3.4    0.0    26.2   11.0    35.6     12.1   4.4   13.5   \n",
       "CONEJO       37.8    25.2   26.2     0.0   37.2    14.6     38.3  21.8   12.7   \n",
       "LLAMA         2.6    12.0   11.0    37.2    0.0    46.6      2.9  15.4   24.5   \n",
       "CIERVO       47.2    34.6   35.6    14.6   46.6     0.0     47.7  31.2   22.1   \n",
       "BISONTE       4.7    13.1   12.1    38.3    2.9    47.7      0.0  16.5   25.6   \n",
       "GATO         16.0     6.6    4.4    21.8   15.4    31.2     16.5   0.0   10.7   \n",
       "PERRO        25.1    12.5   13.5    12.7   24.5    22.1     25.6  10.7    0.0   \n",
       "FOCA         90.9    78.3   79.3    58.3   90.3    45.1     91.4  75.7   65.8   \n",
       "DELFÍN       85.3    72.7   73.7    50.9   84.7    38.1     85.8  69.3   60.2   \n",
       "\n",
       "Mamífero  FOCA  DELFÍN  \n",
       "Mamífero                \n",
       "CABALLO   98.7    93.1  \n",
       "BURRO     98.7    93.1  \n",
       "CEBRA     89.0    83.4  \n",
       "HAMSTER   75.3    69.7  \n",
       "RATA      59.3    53.7  \n",
       "OVEJA     80.0    74.4  \n",
       "RENO      43.6    36.2  \n",
       "MULA      97.0    91.4  \n",
       "CERDO     79.6    74.0  \n",
       "CAMELLO   90.9    85.3  \n",
       "BÚFALO    78.3    72.7  \n",
       "ZORRO     79.3    73.7  \n",
       "CONEJO    58.3    50.9  \n",
       "LLAMA     90.3    84.7  \n",
       "CIERVO    45.1    38.1  \n",
       "BISONTE   91.4    85.8  \n",
       "GATO      75.7    69.3  \n",
       "PERRO     65.8    60.2  \n",
       "FOCA       0.0    10.4  \n",
       "DELFÍN    10.4     0.0  "
      ]
     },
     "execution_count": 31,
     "metadata": {},
     "output_type": "execute_result"
    }
   ],
   "source": [
    "#Matrix de distancia de todas las observaciones\n",
    "\n",
    "pd.DataFrame(squareform(pdist(animales.drop('Mamífero',axis=1), \n",
    "                                            metric = 'cityblock')), \n",
    "             columns = animales.Mamífero, \n",
    "             index = animales.Mamífero)"
   ]
  },
  {
   "cell_type": "code",
   "execution_count": 32,
   "metadata": {},
   "outputs": [
    {
     "data": {
      "text/html": [
       "<div>\n",
       "<style scoped>\n",
       "    .dataframe tbody tr th:only-of-type {\n",
       "        vertical-align: middle;\n",
       "    }\n",
       "\n",
       "    .dataframe tbody tr th {\n",
       "        vertical-align: top;\n",
       "    }\n",
       "\n",
       "    .dataframe thead th {\n",
       "        text-align: right;\n",
       "    }\n",
       "</style>\n",
       "<table border=\"1\" class=\"dataframe\">\n",
       "  <thead>\n",
       "    <tr style=\"text-align: right;\">\n",
       "      <th></th>\n",
       "      <th>Mamífero</th>\n",
       "      <th>Agua</th>\n",
       "      <th>Proteinas</th>\n",
       "      <th>Grasa</th>\n",
       "      <th>Lactosa</th>\n",
       "      <th>pred</th>\n",
       "    </tr>\n",
       "  </thead>\n",
       "  <tbody>\n",
       "    <tr>\n",
       "      <th>0</th>\n",
       "      <td>CABALLO</td>\n",
       "      <td>90.1</td>\n",
       "      <td>2.6</td>\n",
       "      <td>1.0</td>\n",
       "      <td>6.9</td>\n",
       "      <td>0</td>\n",
       "    </tr>\n",
       "    <tr>\n",
       "      <th>1</th>\n",
       "      <td>BURRO</td>\n",
       "      <td>90.3</td>\n",
       "      <td>1.7</td>\n",
       "      <td>1.4</td>\n",
       "      <td>6.2</td>\n",
       "      <td>0</td>\n",
       "    </tr>\n",
       "    <tr>\n",
       "      <th>2</th>\n",
       "      <td>CEBRA</td>\n",
       "      <td>86.2</td>\n",
       "      <td>3.0</td>\n",
       "      <td>4.8</td>\n",
       "      <td>5.3</td>\n",
       "      <td>0</td>\n",
       "    </tr>\n",
       "    <tr>\n",
       "      <th>3</th>\n",
       "      <td>HAMSTER</td>\n",
       "      <td>81.9</td>\n",
       "      <td>7.4</td>\n",
       "      <td>7.2</td>\n",
       "      <td>2.7</td>\n",
       "      <td>0</td>\n",
       "    </tr>\n",
       "    <tr>\n",
       "      <th>4</th>\n",
       "      <td>RATA</td>\n",
       "      <td>72.5</td>\n",
       "      <td>9.2</td>\n",
       "      <td>12.6</td>\n",
       "      <td>3.3</td>\n",
       "      <td>0</td>\n",
       "    </tr>\n",
       "    <tr>\n",
       "      <th>5</th>\n",
       "      <td>OVEJA</td>\n",
       "      <td>82.0</td>\n",
       "      <td>5.6</td>\n",
       "      <td>6.4</td>\n",
       "      <td>4.7</td>\n",
       "      <td>0</td>\n",
       "    </tr>\n",
       "    <tr>\n",
       "      <th>6</th>\n",
       "      <td>RENO</td>\n",
       "      <td>64.8</td>\n",
       "      <td>10.7</td>\n",
       "      <td>20.3</td>\n",
       "      <td>2.5</td>\n",
       "      <td>0</td>\n",
       "    </tr>\n",
       "    <tr>\n",
       "      <th>7</th>\n",
       "      <td>MULA</td>\n",
       "      <td>90.0</td>\n",
       "      <td>2.0</td>\n",
       "      <td>1.8</td>\n",
       "      <td>5.5</td>\n",
       "      <td>0</td>\n",
       "    </tr>\n",
       "    <tr>\n",
       "      <th>8</th>\n",
       "      <td>CERDO</td>\n",
       "      <td>82.8</td>\n",
       "      <td>7.1</td>\n",
       "      <td>5.1</td>\n",
       "      <td>3.7</td>\n",
       "      <td>0</td>\n",
       "    </tr>\n",
       "    <tr>\n",
       "      <th>9</th>\n",
       "      <td>CAMELLO</td>\n",
       "      <td>87.7</td>\n",
       "      <td>3.5</td>\n",
       "      <td>3.4</td>\n",
       "      <td>4.8</td>\n",
       "      <td>0</td>\n",
       "    </tr>\n",
       "    <tr>\n",
       "      <th>10</th>\n",
       "      <td>BÚFALO</td>\n",
       "      <td>82.1</td>\n",
       "      <td>5.9</td>\n",
       "      <td>7.9</td>\n",
       "      <td>4.7</td>\n",
       "      <td>0</td>\n",
       "    </tr>\n",
       "    <tr>\n",
       "      <th>11</th>\n",
       "      <td>ZORRO</td>\n",
       "      <td>81.6</td>\n",
       "      <td>6.6</td>\n",
       "      <td>5.9</td>\n",
       "      <td>4.9</td>\n",
       "      <td>0</td>\n",
       "    </tr>\n",
       "    <tr>\n",
       "      <th>12</th>\n",
       "      <td>CONEJO</td>\n",
       "      <td>71.3</td>\n",
       "      <td>12.3</td>\n",
       "      <td>13.1</td>\n",
       "      <td>1.9</td>\n",
       "      <td>0</td>\n",
       "    </tr>\n",
       "    <tr>\n",
       "      <th>13</th>\n",
       "      <td>LLAMA</td>\n",
       "      <td>86.5</td>\n",
       "      <td>3.9</td>\n",
       "      <td>3.2</td>\n",
       "      <td>5.6</td>\n",
       "      <td>0</td>\n",
       "    </tr>\n",
       "    <tr>\n",
       "      <th>14</th>\n",
       "      <td>CIERVO</td>\n",
       "      <td>65.9</td>\n",
       "      <td>10.4</td>\n",
       "      <td>19.7</td>\n",
       "      <td>2.6</td>\n",
       "      <td>0</td>\n",
       "    </tr>\n",
       "    <tr>\n",
       "      <th>15</th>\n",
       "      <td>BISONTE</td>\n",
       "      <td>86.9</td>\n",
       "      <td>4.8</td>\n",
       "      <td>1.7</td>\n",
       "      <td>5.7</td>\n",
       "      <td>0</td>\n",
       "    </tr>\n",
       "    <tr>\n",
       "      <th>16</th>\n",
       "      <td>GATO</td>\n",
       "      <td>81.6</td>\n",
       "      <td>10.1</td>\n",
       "      <td>6.3</td>\n",
       "      <td>4.4</td>\n",
       "      <td>0</td>\n",
       "    </tr>\n",
       "    <tr>\n",
       "      <th>17</th>\n",
       "      <td>PERRO</td>\n",
       "      <td>76.3</td>\n",
       "      <td>9.3</td>\n",
       "      <td>9.5</td>\n",
       "      <td>3.0</td>\n",
       "      <td>0</td>\n",
       "    </tr>\n",
       "    <tr>\n",
       "      <th>18</th>\n",
       "      <td>FOCA</td>\n",
       "      <td>46.4</td>\n",
       "      <td>9.7</td>\n",
       "      <td>42.0</td>\n",
       "      <td>0.0</td>\n",
       "      <td>1</td>\n",
       "    </tr>\n",
       "    <tr>\n",
       "      <th>19</th>\n",
       "      <td>DELFÍN</td>\n",
       "      <td>44.9</td>\n",
       "      <td>10.6</td>\n",
       "      <td>34.9</td>\n",
       "      <td>0.9</td>\n",
       "      <td>1</td>\n",
       "    </tr>\n",
       "  </tbody>\n",
       "</table>\n",
       "</div>"
      ],
      "text/plain": [
       "   Mamífero  Agua  Proteinas  Grasa  Lactosa  pred\n",
       "0   CABALLO  90.1        2.6    1.0      6.9     0\n",
       "1     BURRO  90.3        1.7    1.4      6.2     0\n",
       "2     CEBRA  86.2        3.0    4.8      5.3     0\n",
       "3   HAMSTER  81.9        7.4    7.2      2.7     0\n",
       "4      RATA  72.5        9.2   12.6      3.3     0\n",
       "5     OVEJA  82.0        5.6    6.4      4.7     0\n",
       "6      RENO  64.8       10.7   20.3      2.5     0\n",
       "7      MULA  90.0        2.0    1.8      5.5     0\n",
       "8     CERDO  82.8        7.1    5.1      3.7     0\n",
       "9   CAMELLO  87.7        3.5    3.4      4.8     0\n",
       "10   BÚFALO  82.1        5.9    7.9      4.7     0\n",
       "11    ZORRO  81.6        6.6    5.9      4.9     0\n",
       "12   CONEJO  71.3       12.3   13.1      1.9     0\n",
       "13    LLAMA  86.5        3.9    3.2      5.6     0\n",
       "14   CIERVO  65.9       10.4   19.7      2.6     0\n",
       "15  BISONTE  86.9        4.8    1.7      5.7     0\n",
       "16     GATO  81.6       10.1    6.3      4.4     0\n",
       "17    PERRO  76.3        9.3    9.5      3.0     0\n",
       "18     FOCA  46.4        9.7   42.0      0.0     1\n",
       "19   DELFÍN  44.9       10.6   34.9      0.9     1"
      ]
     },
     "execution_count": 32,
     "metadata": {},
     "output_type": "execute_result"
    }
   ],
   "source": [
    "# Usando el pred se puede ver en que cluster queda y calcular a mano usando pdist como quedaria la distancia entre \n",
    "# El cluster\n",
    "cluster = AgglomerativeClustering(n_clusters=2, affinity='euclidean', linkage='single')\n",
    "cluster.fit_predict(animales.drop('Mamífero',axis=1))\n",
    "animales2 = animales.copy()\n",
    "animales2['pred'] = cluster.fit_predict(animales.drop('Mamífero',axis=1))\n",
    "animales2"
   ]
  },
  {
   "cell_type": "markdown",
   "metadata": {},
   "source": [
    "# -----------------------------------"
   ]
  },
  {
   "cell_type": "code",
   "execution_count": 33,
   "metadata": {},
   "outputs": [],
   "source": [
    "t1 = pd.DataFrame([\n",
    "[23.46, 23.59, 23.51, 23.28, 23.29],\n",
    "[23.48, 23.46, 23.64, 23.4, 23.46],\n",
    "[23.56, 23.42, 23.46, 23.37, 23.37],\n",
    "[23.39, 23.49, 23.52, 23.46, 23.32],\n",
    "[23.4, 23.5, 23.49, 23.29, 23.38]], columns = [\"lote1\", \"lote2\", \"lote3\", \"lote4\", \"lote5\"])"
   ]
  },
  {
   "cell_type": "code",
   "execution_count": 47,
   "metadata": {},
   "outputs": [
    {
     "data": {
      "text/html": [
       "<div>\n",
       "<style scoped>\n",
       "    .dataframe tbody tr th:only-of-type {\n",
       "        vertical-align: middle;\n",
       "    }\n",
       "\n",
       "    .dataframe tbody tr th {\n",
       "        vertical-align: top;\n",
       "    }\n",
       "\n",
       "    .dataframe thead th {\n",
       "        text-align: right;\n",
       "    }\n",
       "</style>\n",
       "<table border=\"1\" class=\"dataframe\">\n",
       "  <thead>\n",
       "    <tr style=\"text-align: right;\">\n",
       "      <th></th>\n",
       "      <th>sum_sq</th>\n",
       "      <th>df</th>\n",
       "      <th>F</th>\n",
       "      <th>PR(&gt;F)</th>\n",
       "    </tr>\n",
       "  </thead>\n",
       "  <tbody>\n",
       "    <tr>\n",
       "      <th>C(lote)</th>\n",
       "      <td>0.111296</td>\n",
       "      <td>4.0</td>\n",
       "      <td>5.945299</td>\n",
       "      <td>0.002545</td>\n",
       "    </tr>\n",
       "    <tr>\n",
       "      <th>Residual</th>\n",
       "      <td>0.093600</td>\n",
       "      <td>20.0</td>\n",
       "      <td>NaN</td>\n",
       "      <td>NaN</td>\n",
       "    </tr>\n",
       "  </tbody>\n",
       "</table>\n",
       "</div>"
      ],
      "text/plain": [
       "            sum_sq    df         F    PR(>F)\n",
       "C(lote)   0.111296   4.0  5.945299  0.002545\n",
       "Residual  0.093600  20.0       NaN       NaN"
      ]
     },
     "execution_count": 47,
     "metadata": {},
     "output_type": "execute_result"
    }
   ],
   "source": [
    "# Pure python ANOVA\n",
    "t1_melt = pd.melt(t1.reset_index(), id_vars= ['index'], value_vars = [i for i in t1.columns])\n",
    "t1_melt.columns = ['index', 'lote', 'valor']\n",
    "model = ols('valor ~ C(lote)', data=t1_melt).fit()\n",
    "anova_table = sm.stats.anova_lm(model, typ=2)\n",
    "\n",
    "anova_table"
   ]
  },
  {
   "cell_type": "code",
   "execution_count": 110,
   "metadata": {},
   "outputs": [
    {
     "name": "stdout",
     "output_type": "stream",
     "text": [
      "            Df Sum Sq Mean Sq F value  Pr(>F)   \n",
      "lote         4 0.1113 0.02782   5.945 0.00255 **\n",
      "Residuals   20 0.0936 0.00468                   \n",
      "---\n",
      "Signif. codes:  0 ‘***’ 0.001 ‘**’ 0.01 ‘*’ 0.05 ‘.’ 0.1 ‘ ’ 1\n",
      "\n"
     ]
    }
   ],
   "source": [
    "# R ANOVA\n",
    "with localconverter(robjects.default_converter + pandas2ri.converter):\n",
    "  t2 = robjects.conversion.py2rpy(t1_melt)\n",
    "\n",
    "\n",
    "fml = Formula(\"valor ~ lote\")\n",
    "huanova = s.aov(formula = fml, data= t2)\n",
    "print(r.summary(huanova))"
   ]
  },
  {
   "cell_type": "code",
   "execution_count": 48,
   "metadata": {},
   "outputs": [
    {
     "data": {
      "text/plain": [
       "(0.9031584858894348, 0.02150771953165531)"
      ]
     },
     "execution_count": 48,
     "metadata": {},
     "output_type": "execute_result"
    }
   ],
   "source": [
    "# Python Shapiro\n",
    "stats.shapiro(model.resid)"
   ]
  },
  {
   "cell_type": "code",
   "execution_count": 111,
   "metadata": {},
   "outputs": [
    {
     "name": "stdout",
     "output_type": "stream",
     "text": [
      "\n",
      "\tShapiro-Wilk normality test\n",
      "\n",
      "data:  c(\"0\" = 0.00200000000001963, \"1\" = 0.0219999999999959, \"2\" = 0.101999999999994, \"3\" = -0.0680000000000039, \"4\" = -0.0580000000000059, \"5\" = 0.0979999999999997, \"6\" = -0.0319999999999993, \"7\" = -0.0719999999999985, \"8\" = -0.00200000000000174, \"9\" = 0.00799999999999983, \"10\" = -0.0139999999999986, \"11\" = 0.116, \"12\" = -0.0639999999999994, \"13\" = -0.00400000000000063, \"14\" = -0.0340000000000018, \"15\" = -0.0799999999999989, \"16\" = 0.0399999999999984, \"17\" = 0.0100000000000008, \"18\" = 0.100000000000001, \"19\" = -0.070000000000001, \"20\" = -0.0740000000000009, \"21\" = 0.0960000000000008, \"22\" = 0.00600000000000094, \"23\" = -0.0439999999999998, \"24\" = 0.0159999999999989)\n",
      "W = 0.90316, p-value = 0.02151\n",
      "\n",
      "\n"
     ]
    }
   ],
   "source": [
    "# R Shapiro\n",
    "print(s.shapiro_test(huanova[1]))"
   ]
  },
  {
   "cell_type": "code",
   "execution_count": 40,
   "metadata": {},
   "outputs": [],
   "source": [
    "with localconverter(robjects.default_converter + pandas2ri.converter):\n",
    "  t2 = robjects.conversion.py2rpy(t1_melt)\n",
    "\n",
    "huanova = s.aov(formula = fml, data= t2)"
   ]
  },
  {
   "cell_type": "code",
   "execution_count": 63,
   "metadata": {},
   "outputs": [
    {
     "data": {
      "text/plain": [
       "(0.9031584858894348, 0.02150771953165531)"
      ]
     },
     "execution_count": 63,
     "metadata": {},
     "output_type": "execute_result"
    }
   ],
   "source": [
    "stats.shapiro(np.array(huanova[1]))"
   ]
  },
  {
   "cell_type": "code",
   "execution_count": 71,
   "metadata": {},
   "outputs": [
    {
     "data": {
      "text/plain": [
       "0.9742865947946067"
      ]
     },
     "execution_count": 71,
     "metadata": {},
     "output_type": "execute_result"
    }
   ],
   "source": [
    "test, pval = stats.levene(t1['lote1'],t1['lote2'],t1['lote3'],t1['lote4'],t1['lote5'])\n",
    "pval"
   ]
  },
  {
   "cell_type": "code",
   "execution_count": 76,
   "metadata": {},
   "outputs": [
    {
     "name": "stdout",
     "output_type": "stream",
     "text": [
      "Multiple Comparison of Means - Tukey HSD,FWER=0.05\n",
      "=============================================\n",
      "group1 group2 meandiff  lower   upper  reject\n",
      "---------------------------------------------\n",
      "lote1  lote2   0.034   -0.0955  0.1635 False \n",
      "lote1  lote3   0.066   -0.0635  0.1955 False \n",
      "lote1  lote4   -0.098  -0.2275  0.0315 False \n",
      "lote1  lote5   -0.094  -0.2235  0.0355 False \n",
      "lote2  lote3   0.032   -0.0975  0.1615 False \n",
      "lote2  lote4   -0.132  -0.2615 -0.0025  True \n",
      "lote2  lote5   -0.128  -0.2575  0.0015 False \n",
      "lote3  lote4   -0.164  -0.2935 -0.0345  True \n",
      "lote3  lote5   -0.16   -0.2895 -0.0305  True \n",
      "lote4  lote5   0.004   -0.1255  0.1335 False \n",
      "---------------------------------------------\n"
     ]
    }
   ],
   "source": [
    "mc = MultiComparison(t1_melt['valor'], t1_melt['lote'])\n",
    "mc_results = mc.tukeyhsd()\n",
    "print(mc_results)"
   ]
  }
 ],
 "metadata": {
  "kernelspec": {
   "display_name": "Python 3",
   "language": "python",
   "name": "python3"
  },
  "language_info": {
   "codemirror_mode": {
    "name": "ipython",
    "version": 3
   },
   "file_extension": ".py",
   "mimetype": "text/x-python",
   "name": "python",
   "nbconvert_exporter": "python",
   "pygments_lexer": "ipython3",
   "version": "3.7.3"
  }
 },
 "nbformat": 4,
 "nbformat_minor": 2
}
